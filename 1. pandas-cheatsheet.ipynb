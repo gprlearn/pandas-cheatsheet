{
 "cells": [
  {
   "cell_type": "markdown",
   "metadata": {},
   "source": [
    "## 1. Pandas Cheatsheet"
   ]
  },
  {
   "cell_type": "markdown",
   "metadata": {},
   "source": [
    "### 1. Create Dataframes"
   ]
  },
  {
   "cell_type": "code",
   "execution_count": null,
   "metadata": {},
   "outputs": [],
   "source": [
    "import pandas as pd\n",
    "\n",
    "# 1. from dictionary\n",
    "data = {\n",
    "    'WidgetA': [10, 9, 7, 8], \n",
    "    'WidgetB': [11, 12, 30, 1]\n",
    "}\n",
    "total_widgets = pd.DataFrame(data)\n",
    "\n",
    "# 2. from list of lists\n",
    "data = [\n",
    "    [10, 11],\n",
    "    [9, 12],\n",
    "    [7, 30],\n",
    "    [8, 1]\n",
    "]\n",
    "total_widgets = pd.DataFrame(data, columns=['WidgetA', 'WidgetB'])\n",
    "\n",
    "# 3. from list of dictionaries\n",
    "data = [\n",
    "    {'WidgetA': 10, 'WidgetB': 11},\n",
    "    {'WidgetA': 9, 'WidgetB': 12},\n",
    "    {'WidgetA': 7, 'WidgetB': 30},\n",
    "    {'WidgetA': 8, 'WidgetB': 1}\n",
    "]\n",
    "total_widgets = pd.DataFrame(data)\n",
    "\n",
    "# 4. from numpy array\n",
    "import numpy as np\n",
    "data = np.array([\n",
    "    [10, 11],\n",
    "    [9, 12],\n",
    "    [7, 30],\n",
    "    [8, 1]\n",
    "])\n",
    "total_widgets = pd.DataFrame(data, columns=['WidgetA', 'WidgetB'])\n",
    "\n",
    "# 5. from csv file\n",
    "total_widgets = pd.read_csv('total_widgets.csv')\n",
    "\n",
    "# 6. from excel file\n",
    "total_widgets = pd.read_excel('total_widgets.xlsx')\n",
    "\n",
    "# 7. from sql query\n",
    "import sqlite3\n",
    "conn = sqlite3.connect('example.db')\n",
    "total_widgets = pd.read_sql_query('SELECT * FROM total_widgets', conn)\n",
    "\n",
    "# 8. from clipboard\n",
    "total_widgets = pd.read_clipboard()\n",
    "\n",
    "# 9. from json\n",
    "import json\n",
    "data = json.loads('{\"WidgetA\": [10, 9, 7, 8], \"WidgetB\": [11, 12, 30, 1]}') \n",
    "total_widgets = pd.DataFrame(data)\n",
    "\n",
    "# 10. from html\n",
    "url = 'https://www.example.com/total_widgets.html'\n",
    "total_widgets = pd.read_html(url)[0]"
   ]
  },
  {
   "cell_type": "markdown",
   "metadata": {},
   "source": [
    "### 2. Research Data"
   ]
  },
  {
   "cell_type": "code",
   "execution_count": 2,
   "metadata": {},
   "outputs": [],
   "source": [
    "data = {\n",
    "    'WidgetA': [10, 9, 7, 8], \n",
    "    'WidgetB': [11, 12, 30, 1]\n",
    "}\n",
    "total_widgets = pd.DataFrame(data)\n",
    "\n",
    "\n",
    "# print first 5 rows\n",
    "print(total_widgets.head())\n",
    "\n",
    "# print last 5 rows\n",
    "print(total_widgets.tail())\n",
    "\n",
    "# print summary statistics\n",
    "print(total_widgets.describe())\n",
    "\n",
    "# print data types\n",
    "print(total_widgets.dtypes)\n",
    "\n",
    "# print number of rows and columns\n",
    "print(total_widgets.shape)\n",
    "\n",
    "# print column names\n",
    "print(total_widgets.columns)\n",
    "\n",
    "# print index\n",
    "print(total_widgets.index)\n",
    "\n",
    "# print values\n",
    "print(total_widgets.values)\n"
   ]
  },
  {
   "cell_type": "markdown",
   "metadata": {},
   "source": [
    "### 3. Describe the dataset"
   ]
  },
  {
   "cell_type": "code",
   "execution_count": null,
   "metadata": {},
   "outputs": [],
   "source": [
    "# what columns are in the DataFrame\n",
    "print(total_widgets.columns)\n",
    "\n",
    "# what is the data type of the 'WidgetA' column\n",
    "print(total_widgets['WidgetA'].dtype)\n",
    "\n",
    "# what is the mean of the 'WidgetA' column\n",
    "print(total_widgets['WidgetA'].mean())\n",
    "\n",
    "# what is the median of the 'WidgetA' column\n",
    "print(total_widgets['WidgetA'].median())\n",
    "\n",
    "# what is the standard deviation of the 'WidgetA' column\n",
    "print(total_widgets['WidgetA'].std())\n",
    "\n",
    "# what is the sum of the 'WidgetA' column\n",
    "print(total_widgets['WidgetA'].sum())\n",
    "\n",
    "# what is the minimum value in the 'WidgetA' column\n",
    "print(total_widgets['WidgetA'].min())\n",
    "\n",
    "# what is the maximum value in the 'WidgetA' column\n",
    "print(total_widgets['WidgetA'].max())\n",
    "\n",
    "# what is the 25th percentile of the 'WidgetA' column\n",
    "print(total_widgets['WidgetA'].quantile(0.25))\n",
    "\n",
    "# what is the 75th percentile of the 'WidgetA' column\n",
    "print(total_widgets['WidgetA'].quantile(0.75))\n",
    "\n",
    "# what is the count of non-null values in the 'WidgetA' column\n",
    "print(total_widgets['WidgetA'].count())\n",
    "\n",
    "# what is the count of null values in the 'WidgetA' column\n",
    "print(total_widgets['WidgetA'].isnull().sum())\n",
    "\n",
    "# what is the count of non-null values in the dataframe\n",
    "print(total_widgets.count())\n",
    "\n",
    "# what is the count of null values in the dataframe\n",
    "print(total_widgets.isnull().sum())"
   ]
  },
  {
   "cell_type": "markdown",
   "metadata": {},
   "source": [
    "### 4. Value counts"
   ]
  },
  {
   "cell_type": "code",
   "execution_count": null,
   "metadata": {},
   "outputs": [],
   "source": [
    "# what are the unuque values in the 'WidgetA' column\n",
    "print(total_widgets['WidgetA'].unique())\n",
    "\n",
    "# number of unique values in the 'WidgetA' column\n",
    "print(total_widgets['WidgetA'].nunique())\n",
    "\n",
    "# what are the unique values and their counts in the 'WidgetA' column\n",
    "print(total_widgets['WidgetA'].value_counts())"
   ]
  },
  {
   "cell_type": "markdown",
   "metadata": {},
   "source": [
    "### 5. Data Cleanse"
   ]
  },
  {
   "cell_type": "code",
   "execution_count": null,
   "metadata": {},
   "outputs": [],
   "source": [
    "data = {\n",
    "    'WidgetA': [10, 9, 12, 8], \n",
    "    'WidgetB': [11, 12, 30, 1]\n",
    "}\n",
    "total_widgets = pd.DataFrame(data)\n",
    "\n",
    "# what is the count of null values in the dataframe\n",
    "print(total_widgets.isnull().sum())\n",
    "\n",
    "# fill null values with 0\n",
    "total_widgets.fillna(0, inplace=True)\n",
    "\n",
    "# drop rows with null values\n",
    "total_widgets.dropna(inplace=True)"
   ]
  },
  {
   "cell_type": "markdown",
   "metadata": {},
   "source": [
    "### 6. Correlation and Covariance"
   ]
  },
  {
   "cell_type": "code",
   "execution_count": null,
   "metadata": {},
   "outputs": [],
   "source": [
    "data = {\n",
    "    'WidgetA': [10, 9, 12, 8], \n",
    "    'WidgetB': [11, 12, 30, 1]\n",
    "}\n",
    "total_widgets = pd.DataFrame(data)\n",
    "\n",
    "# what is the correlation between the 'WidgetA' and 'WidgetB' columns\n",
    "print(total_widgets['WidgetA'].corr(total_widgets['WidgetB']))\n",
    "\n",
    "# what is the covariance between the 'WidgetA' and 'WidgetB' columns\n",
    "print(total_widgets['WidgetA'].cov(total_widgets['WidgetB']))\n",
    "\n",
    "print(total_widgets.corr())\n",
    "\n",
    "print(total_widgets.cov())"
   ]
  },
  {
   "cell_type": "markdown",
   "metadata": {},
   "source": [
    "### 7. Generate Data"
   ]
  },
  {
   "cell_type": "code",
   "execution_count": null,
   "metadata": {},
   "outputs": [],
   "source": [
    "# uniform random numbers\n",
    "print(np.random.rand(100))\n",
    "\n",
    "# normal random numbers\n",
    "print(np.random.randn(100))\n",
    "\n",
    "# random integers\n",
    "print(np.random.randint(1, 10, 100))\n",
    "\n",
    "# random choice\n",
    "print(np.random.choice(['a', 'b', 'c'], 100))\n",
    "\n",
    "# random permutation\n",
    "print(np.random.permutation(['a', 'b', 'c']))\n",
    "\n",
    "# set seed\n",
    "np.random.seed(42)\n",
    "\n",
    "# linspace \n",
    "print(np.linspace(0, 10, 100))\n"
   ]
  },
  {
   "cell_type": "markdown",
   "metadata": {},
   "source": [
    "### 8. Query the dataframe"
   ]
  },
  {
   "cell_type": "code",
   "execution_count": null,
   "metadata": {},
   "outputs": [],
   "source": [
    "# Use loc and iloc to access rows and columns\n",
    "data = {\n",
    "    'WidgetA': [10, 9, 12, 8], \n",
    "    'WidgetB': [11, 12, 30, 1]\n",
    "}\n",
    "total_widgets = pd.DataFrame(data)\n",
    "\n",
    "# access the first row\n",
    "print(total_widgets.iloc[0])\n",
    "\n",
    "# access the first column\n",
    "print(total_widgets.iloc[:, 0])\n",
    "\n",
    "# access the first row and first column\n",
    "print(total_widgets.iloc[0, 0])\n",
    "\n",
    "# access the first row\n",
    "print(total_widgets.loc[0])\n",
    "\n",
    "print(total_widgets.iloc[-1]) # last row\n",
    "\n",
    "# access the first column\n",
    "print(total_widgets.loc[:, 'WidgetA'])\n",
    "\n",
    "# access the first row and first column\n",
    "print(total_widgets.loc[0, 'WidgetA'])\n",
    "\n",
    "# access the 10th row\n",
    "print(total_widgets.iloc[9])\n",
    "\n",
    "# access the 2nd column\n",
    "print(total_widgets.iloc[:, 1])\n",
    "\n",
    "# access the 10th row and 2nd column\n",
    "print(total_widgets.iloc[9, 1])\n",
    "\n",
    "# access the column by name\n",
    "print(total_widgets['WidgetA'])\n",
    "\n",
    "# access the column by attribute\n",
    "print(total_widgets.WidgetA)\n",
    "\n",
    "# access the cell by querying a column\n",
    "print(total_widgets[total_widgets['WidgetA'] == 10])\n",
    "\n",
    "# access the cell by querying a column using the 'query' syntax\n",
    "print(total_widgets.query('WidgetA == 10'))\n",
    "\n",
    "# Use the `loc[]` method on the `data` DataFrame to retrieve the information about LeBron James' `Name` and `Team`. Assign the result to the `teamdata` variable.\n",
    "teamdata = data.loc[data.Name == 'LeBron James', 'Name':'Team']\n"
   ]
  },
  {
   "cell_type": "markdown",
   "metadata": {},
   "source": [
    "### 9. Add remove data"
   ]
  },
  {
   "cell_type": "code",
   "execution_count": 19,
   "metadata": {},
   "outputs": [
    {
     "data": {
      "text/html": [
       "<div>\n",
       "<style scoped>\n",
       "    .dataframe tbody tr th:only-of-type {\n",
       "        vertical-align: middle;\n",
       "    }\n",
       "\n",
       "    .dataframe tbody tr th {\n",
       "        vertical-align: top;\n",
       "    }\n",
       "\n",
       "    .dataframe thead th {\n",
       "        text-align: right;\n",
       "    }\n",
       "</style>\n",
       "<table border=\"1\" class=\"dataframe\">\n",
       "  <thead>\n",
       "    <tr style=\"text-align: right;\">\n",
       "      <th></th>\n",
       "      <th>WidgetA</th>\n",
       "      <th>WidgetB</th>\n",
       "    </tr>\n",
       "  </thead>\n",
       "  <tbody>\n",
       "    <tr>\n",
       "      <th>0</th>\n",
       "      <td>10</td>\n",
       "      <td>11</td>\n",
       "    </tr>\n",
       "    <tr>\n",
       "      <th>1</th>\n",
       "      <td>9</td>\n",
       "      <td>12</td>\n",
       "    </tr>\n",
       "    <tr>\n",
       "      <th>2</th>\n",
       "      <td>12</td>\n",
       "      <td>30</td>\n",
       "    </tr>\n",
       "    <tr>\n",
       "      <th>3</th>\n",
       "      <td>8</td>\n",
       "      <td>1</td>\n",
       "    </tr>\n",
       "  </tbody>\n",
       "</table>\n",
       "</div>"
      ],
      "text/plain": [
       "   WidgetA  WidgetB\n",
       "0       10       11\n",
       "1        9       12\n",
       "2       12       30\n",
       "3        8        1"
      ]
     },
     "execution_count": 19,
     "metadata": {},
     "output_type": "execute_result"
    }
   ],
   "source": [
    "# add column\n",
    "total_widgets['WidgetC'] = [1, 2, 3, 4]\n",
    "\n",
    "# add row\n",
    "total_widgets.loc[4] = [5, 6, 7]\n",
    "\n",
    "# remove column\n",
    "total_widgets.drop('WidgetC', axis=1, inplace=True)\n",
    "\n",
    "# remove empty cells\n",
    "total_widgets.dropna(inplace=True)\n",
    "\n",
    "# remove row\n",
    "total_widgets.drop(4, inplace=True)\n",
    "\n",
    "# remove row by index\n",
    "total_widgets.drop(total_widgets.index[0], inplace=True)\n",
    "\n",
    "# remove row by condition\n",
    "total_widgets = total_widgets[total_widgets['WidgetA'] != 10]\n",
    "\n",
    "# remove row by query\n",
    "total_widgets = total_widgets.query('WidgetA != 10')\n"
   ]
  },
  {
   "cell_type": "markdown",
   "metadata": {},
   "source": []
  }
 ],
 "metadata": {
  "kernelspec": {
   "display_name": "Python 3",
   "language": "python",
   "name": "python3"
  },
  "language_info": {
   "codemirror_mode": {
    "name": "ipython",
    "version": 3
   },
   "file_extension": ".py",
   "mimetype": "text/x-python",
   "name": "python",
   "nbconvert_exporter": "python",
   "pygments_lexer": "ipython3",
   "version": "3.11.8"
  }
 },
 "nbformat": 4,
 "nbformat_minor": 2
}
